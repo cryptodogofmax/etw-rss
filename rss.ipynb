{
 "cells": [
  {
   "cell_type": "code",
   "execution_count": 3,
   "id": "c39fddf6-fbaa-438f-b2b1-bd9a03a22106",
   "metadata": {
    "tags": []
   },
   "outputs": [
    {
     "name": "stdout",
     "output_type": "stream",
     "text": [
      "The lab_black extension is already loaded. To reload it, use:\n",
      "  %reload_ext lab_black\n"
     ]
    }
   ],
   "source": [
    "%load_ext lab_black"
   ]
  },
  {
   "cell_type": "code",
   "execution_count": 8,
   "id": "4006834e-6d6a-4ffe-a3f8-d5a25da1c812",
   "metadata": {
    "tags": []
   },
   "outputs": [
    {
     "name": "stdout",
     "output_type": "stream",
     "text": [
      "Number of RSS posts : 287\n"
     ]
    }
   ],
   "source": [
    "import feedparser\n",
    "\n",
    "NewsFeed = feedparser.parse(\"https://feeds.fireside.fm/shengdongjixi/rss\")\n",
    "\n",
    "print(\"Number of RSS posts :\", len(NewsFeed.entries))"
   ]
  },
  {
   "cell_type": "code",
   "execution_count": 9,
   "id": "5931e5df-1fd3-4887-b882-391e2c6fbaaa",
   "metadata": {
    "tags": []
   },
   "outputs": [],
   "source": [
    "entry0 = NewsFeed.entries[0]"
   ]
  },
  {
   "cell_type": "code",
   "execution_count": 12,
   "id": "4397d5ea-bf22-42b7-9d83-44dca389d30d",
   "metadata": {
    "tags": []
   },
   "outputs": [
    {
     "data": {
      "text/plain": [
       "'<p>熊猫大概是这个世界上身份最多样、知名度最高的动物 —— 它是社交平台上的网红，是全球各大动物园的明星，而最为特殊的，或许还是它在中国外交史上曾经和正在扮演的角色。</p>\\n\\n<p>生活在山野中的熊猫在近代是如何被重新发现与关注的？第一批被运往外国的熊猫命运如何？新中国成立后，意识形态的差异如何影响了「熊猫外交」？从国礼到租借，现在的熊猫们又是如何出国「打工」的？</p>\\n\\n<p>今天的节目就让我们一起走近这个给你我带来了无数欢乐，但却从未被真正了解过的多面动物 —— 大熊猫。</p>\\n\\n<p><strong>本期人物</strong><br />\\n徐涛，声动活泼联合创始人<br />\\n刘晓晨，上海师范大学世界史系助理研究员<br />\\n一凡，「声东击西」监制</p>\\n\\n<p><strong>主要话题</strong><br />\\n[10:29]   海外「熊猫热」的起源：博物学、探险家和对神秘东方的想象<br />\\n[21:05]   冷战时期的「熊猫外交」：这只熊猫姓资还是姓社？<br />\\n[39:33]   走出国门的熊猫推动了国内的熊猫保护工作<br />\\n[43:44]   熊猫外交的新阶段：租借、科研合作以及动物福祉<br />\\n[53:11]   通过熊猫，再次反思人和动物、自然的关系</p>\\n\\n<p><strong>延伸阅读</strong><br />\\n<a href=\"https://book.douban.com/subject/26335757/?dt_dapp=1\" rel=\"nofollow\">《最后的熊猫》</a><br />\\n<a href=\"https://book.douban.com/subject/36371035/?dt_dapp=1\" rel=\"nofollow\">《樱与兽：帝国中心的上野动物园》</a><br />\\n<a href=\"https://book.douban.com/subject/30192623/?dt_dapp=1\" rel=\"nofollow\">《Panda Nation：The Construction and Conservation of China\\'s Modern Icon》</a><br />\\n<a href=\"https://mp.weixin.qq.com/s/1HT46DGcj1Y0ifYsToBkaA\" rel=\"nofollow\">痛悼！“中国大熊猫之父”胡锦矗病逝</a><br />\\n<a href=\"https://baike.baidu.com/item/%E5%B7%B4%E9%BB%8E%E7%BB%9F%E7%AD%B9%E5%A7%94%E5%91%98%E4%BC%9A\" rel=\"nofollow\">巴黎统筹委员会</a></p>\\n\\n<p><strong>往期节目</strong><br />\\n<a href=\"https://etw.fm/maomeng\" rel=\"nofollow\">#147 假如，京郊有豹子？</a><br />\\n<a href=\"https://etw.fm/168\" rel=\"nofollow\">#168 我们为什么担忧对大象的围观</a><br />\\n<a href=\"https://etw.fm/186\" rel=\"nofollow\">#186 嘿，认识一下你的野生新邻居</a><br />\\n<a href=\"https://etw.fm/188\" rel=\"nofollow\">#188 一场旅程中的杀手</a></p>\\n\\n<p><strong>加入方式</strong><br />\\n<a href=\"https://sourl.cn/rYXHK9\" rel=\"nofollow\">支付 ¥365/年</a> 成为<strong>声动胡同常住民</strong>。加入后，你将会在「声动胡同」里体验到专属内容、参与社群活动，和听友们一起「声动活泼」。 <br />\\n在此之前，也欢迎你成为声动胡同<a href=\"https://sourl.cn/rYXHK9\" rel=\"nofollow\">闲逛者</a> ，免费体验会员内容、感受社群氛围。<a href=\"https://sourl.cn/seG52h\" rel=\"nofollow\">了解更多会员计划详情，我们在声动胡同等你。</a> </p>\\n\\n<p><strong>幕后制作</strong><br />\\n监制：一凡、六工<br />\\n后期：赛德<br />\\n运营：瑞涵<br />\\n设计：饭团</p>\\n\\n<p><strong>关于节目</strong><br />\\nBigger Than Us，渴望多元视角，用发问来探索世界。</p>\\n\\n<p><strong>商务合作</strong><br />\\n<a href=\"https://sourl.cn/6vdmQT\" rel=\"nofollow\">声动活泼商务合作咨询</a></p>\\n\\n<p><strong>加入我们</strong><br />\\n声动活泼正在招聘「节目监制」和「声音设计师」，查看详细讯息请 <a href=\"https://sourl.cn/j8tk2g\" rel=\"nofollow\">点击链接</a> 。如果你正准备在相关领域发挥专长、贡献能量，请联系我们。</p>\\n\\n<p><strong>关于声动活泼</strong><br />\\n「用声音碰撞世界」，声动活泼致力于为人们提供源源不断的思考养料。<br />\\n我们还有这些播客：<a href=\"https://www.xiaoyuzhoufm.com/podcast/60de7c003dd577b40d5a40f3\" rel=\"nofollow\">声动早咖啡</a>、<a href=\"https://guiguzaozhidao.fireside.fm/episodes\" rel=\"nofollow\">What\\'s Next｜科技早知道</a>、<a href=\"https://www.xiaoyuzhoufm.com/podcast/644b94c494d78eb3f7ae8640\" rel=\"nofollow\">吃喝玩乐了不起</a>、<a href=\"https://www.xiaoyuzhoufm.com/podcast/5e284c37418a84a0462634a4\" rel=\"nofollow\">反潮流俱乐部</a>、<a href=\"https://www.xiaoyuzhoufm.com/podcast/5f445cdb9504bbdb77f092e9\" rel=\"nofollow\">泡腾 VC</a>、<a href=\"https://www.xiaoyuzhoufm.com/podcast/61315abc73105e8f15080b8a\" rel=\"nofollow\">商业WHY酱</a>、<a href=\"https://therabbithole.fireside.fm/\" rel=\"nofollow\">跳进兔子洞</a><br />\\n欢迎在<a href=\"https://okjk.co/Qd43ia\" rel=\"nofollow\">即刻</a>、微博等社交媒体上与我们互动，搜索 <strong>声动活泼</strong> 即可找到我们。<br />\\n期待你给我们写邮件，邮箱地址是：<a href=\"mailto:ting@sheng.fm\" rel=\"nofollow\">ting@sheng.fm</a></p><p>Special Guest: 刘晓晨.</p>'"
      ]
     },
     "execution_count": 12,
     "metadata": {},
     "output_type": "execute_result"
    }
   ],
   "source": [
    "summary0 = entry0[\"summary\"]\n",
    "summary0"
   ]
  },
  {
   "cell_type": "code",
   "execution_count": 41,
   "id": "21191de8-6073-4aec-8acf-ffd096938128",
   "metadata": {
    "tags": []
   },
   "outputs": [
    {
     "data": {
      "text/plain": [
       "['https://book.douban.com/subject/26335757/?dt_dapp=1',\n",
       " 'https://book.douban.com/subject/36371035/?dt_dapp=1',\n",
       " 'https://book.douban.com/subject/30192623/?dt_dapp=1',\n",
       " 'https://mp.weixin.qq.com/s/1HT46DGcj1Y0ifYsToBkaA',\n",
       " 'https://baike.baidu.com/item/%E5%B7%B4%E9%BB%8E%E7%BB%9F%E7%AD%B9%E5%A7%94%E5%91%98%E4%BC%9A',\n",
       " 'https://etw.fm/maomeng',\n",
       " 'https://etw.fm/168',\n",
       " 'https://etw.fm/186',\n",
       " 'https://etw.fm/188',\n",
       " 'https://sourl.cn/rYXHK9',\n",
       " 'https://sourl.cn/rYXHK9',\n",
       " 'https://sourl.cn/seG52h',\n",
       " 'https://sourl.cn/6vdmQT',\n",
       " 'https://sourl.cn/j8tk2g',\n",
       " 'https://www.xiaoyuzhoufm.com/podcast/60de7c003dd577b40d5a40f3',\n",
       " 'https://guiguzaozhidao.fireside.fm/episodes',\n",
       " 'https://www.xiaoyuzhoufm.com/podcast/644b94c494d78eb3f7ae8640',\n",
       " 'https://www.xiaoyuzhoufm.com/podcast/5e284c37418a84a0462634a4',\n",
       " 'https://www.xiaoyuzhoufm.com/podcast/5f445cdb9504bbdb77f092e9',\n",
       " 'https://www.xiaoyuzhoufm.com/podcast/61315abc73105e8f15080b8a',\n",
       " 'https://therabbithole.fireside.fm/',\n",
       " 'https://okjk.co/Qd43ia']"
      ]
     },
     "execution_count": 41,
     "metadata": {},
     "output_type": "execute_result"
    }
   ],
   "source": [
    "from urlextract import URLExtract\n",
    "\n",
    "extractor = URLExtract()\n",
    "urls = extractor.find_urls(summary0)\n",
    "urls"
   ]
  },
  {
   "cell_type": "code",
   "execution_count": 15,
   "id": "879f22fa-9f31-4e6b-842c-da8114c18cd4",
   "metadata": {
    "tags": []
   },
   "outputs": [
    {
     "data": {
      "text/plain": [
       "['https://book.douban.com/subject/26335757/?dt_dapp=1',\n",
       " 'https://book.douban.com/subject/36371035/?dt_dapp=1',\n",
       " 'https://book.douban.com/subject/30192623/?dt_dapp=1',\n",
       " 'https://mp.weixin.qq.com/s/1HT46DGcj1Y0ifYsToBkaA',\n",
       " 'https://baike.baidu.com/item/%E5%B7%B4%E9%BB%8E%E7%BB%9F%E7%AD%B9%E5%A7%94%E5%91%98%E4%BC%9A',\n",
       " 'https://etw.fm/maomeng',\n",
       " 'https://etw.fm/168',\n",
       " 'https://etw.fm/186',\n",
       " 'https://etw.fm/188',\n",
       " 'https://sourl.cn/rYXHK9',\n",
       " 'https://sourl.cn/rYXHK9',\n",
       " 'https://sourl.cn/seG52h',\n",
       " 'https://sourl.cn/6vdmQT',\n",
       " 'https://sourl.cn/j8tk2g',\n",
       " 'https://www.xiaoyuzhoufm.com/podcast/60de7c003dd577b40d5a40f3',\n",
       " 'https://guiguzaozhidao.fireside.fm/episodes',\n",
       " 'https://www.xiaoyuzhoufm.com/podcast/644b94c494d78eb3f7ae8640',\n",
       " 'https://www.xiaoyuzhoufm.com/podcast/5e284c37418a84a0462634a4',\n",
       " 'https://www.xiaoyuzhoufm.com/podcast/5f445cdb9504bbdb77f092e9',\n",
       " 'https://www.xiaoyuzhoufm.com/podcast/61315abc73105e8f15080b8a',\n",
       " 'https://therabbithole.fireside.fm/',\n",
       " 'https://okjk.co/Qd43ia']"
      ]
     },
     "execution_count": 15,
     "metadata": {},
     "output_type": "execute_result"
    }
   ],
   "source": [
    "urls0"
   ]
  },
  {
   "cell_type": "code",
   "execution_count": 28,
   "id": "f8a6ffa8-f5fe-4350-835d-a849af8c6418",
   "metadata": {
    "tags": []
   },
   "outputs": [
    {
     "data": {
      "text/plain": [
       "['https://www.zhihu.com/topic/20041690/hot',\n",
       " 'https://baike.baidu.com/item/%E4%BF%9D%E7%94%9F%E5%A4%A7%E5%B8%9D/447777',\n",
       " 'https://baike.baidu.com/item/%E9%99%88%E9%9D%96%E5%A7%91/3237659?fromtitle=%E9%A1%BA%E5%A4%A9%E5%9C%A3%E6%AF%8D&amp',\n",
       " 'https://baike.baidu.com/item/%E6%B4%AA%E6%81%A9%E7%81%B5%E6%B5%8E%E7%9C%9F%E5%90%9B',\n",
       " 'https://book.douban.com/subject/35406921/',\n",
       " 'https://new.qq.com/rain/a/20220910A05VRI00',\n",
       " 'https://www.bilibili.com/video/BV1Bj411M7m5/?spm_id_from=333.788.top_right_bar_window_history.content.click&amp',\n",
       " 'https://mp.weixin.qq.com/s/U3X6At_1tWb5DumnuFLL2w',\n",
       " 'https://www.bilibili.com/video/BV1X84y1b7QD/?spm_id_from=333.337.search-card.all.click&amp',\n",
       " 'https://baike.baidu.com/item/%E4%B9%A9%E7%AB%A5',\n",
       " 'https://mp.weixin.qq.com/s/UK9wZ1O0q3Dk9CVRaKGpsQ',\n",
       " 'https://mp.weixin.qq.com/mp/appmsgalbum?action=getalbum&amp',\n",
       " 'https://files.fireside.fm/file/fireside-uploads/images/8/8dd8a56f-9636-415a-8c00-f9ca6778e511/n1nRgTTy.jpg',\n",
       " 'https://files.fireside.fm/file/fireside-uploads/images/8/8dd8a56f-9636-415a-8c00-f9ca6778e511/FTkZgE1M.jpg',\n",
       " 'https://files.fireside.fm/file/fireside-uploads/images/8/8dd8a56f-9636-415a-8c00-f9ca6778e511/PddqKLXt.jpg',\n",
       " 'https://files.fireside.fm/file/fireside-uploads/images/8/8dd8a56f-9636-415a-8c00-f9ca6778e511/ldx2_SHc.jpg',\n",
       " 'https://files.fireside.fm/file/fireside-uploads/images/8/8dd8a56f-9636-415a-8c00-f9ca6778e511/WDALViYe.jpg',\n",
       " 'https://sourl.cn/rYXHK9',\n",
       " 'https://sourl.cn/rYXHK9',\n",
       " 'https://sourl.cn/seG52h',\n",
       " 'https://sourl.cn/6vdmQT',\n",
       " 'https://sourl.cn/j8tk2g',\n",
       " 'https://sheng-espresso.fireside.fm/',\n",
       " 'https://guiguzaozhidao.fireside.fm/episodes',\n",
       " 'https://fanchaoliuclub.fireside.fm/',\n",
       " 'https://popvc.fireside.fm/',\n",
       " 'https://msbussinesswhy.fireside.fm/',\n",
       " 'https://therabbithole.fireside.fm/',\n",
       " 'https://okjk.co/Qd43ia']"
      ]
     },
     "execution_count": 28,
     "metadata": {},
     "output_type": "execute_result"
    }
   ],
   "source": [
    "entry = NewsFeed.entries[10]\n",
    "summary = entry[\"summary\"]\n",
    "urls = extractor.find_urls(summary)\n",
    "urls"
   ]
  },
  {
   "cell_type": "code",
   "execution_count": 36,
   "id": "efd47b4e-11be-4ad9-a576-45ff93769d7e",
   "metadata": {
    "tags": []
   },
   "outputs": [
    {
     "data": {
      "text/plain": [
       "True"
      ]
     },
     "execution_count": 36,
     "metadata": {},
     "output_type": "execute_result"
    }
   ],
   "source": [
    "from urllib.parse import urlparse\n",
    "\n",
    "url = \"https://mp.weixin.qq.com/s/UK9wZ1O0q3Dk9CVRaKGpsQ\"\n",
    "search_domain = urlparse(url).hostname\n",
    "\n",
    "\n",
    "def check_weixin(new_link):\n",
    "    return search_domain in new_link\n",
    "\n",
    "\n",
    "check_weixin(\"https://mp.weixin.qq.com/mp/appmsgalbum?action=getalbum&amp\")"
   ]
  },
  {
   "cell_type": "code",
   "execution_count": 19,
   "id": "7367008d-b5f6-4324-ad93-e2be34b187c1",
   "metadata": {
    "tags": []
   },
   "outputs": [
    {
     "data": {
      "text/plain": [
       "[1, 2, 5, 7, 9]"
      ]
     },
     "execution_count": 19,
     "metadata": {},
     "output_type": "execute_result"
    }
   ],
   "source": [
    "first_list = [1, 2, 2, 5]\n",
    "second_list = [2, 5, 7, 9]\n",
    "\n",
    "\n",
    "def add_links(list1, list2):\n",
    "    return list(set(list1 + list2))\n",
    "\n",
    "\n",
    "add_links(first_list, second_list)"
   ]
  },
  {
   "cell_type": "code",
   "execution_count": 43,
   "id": "f37cd057-fecf-403f-8343-f3f7e79f42c1",
   "metadata": {
    "tags": []
   },
   "outputs": [
    {
     "name": "stderr",
     "output_type": "stream",
     "text": [
      "100%|█████████████████████████████████████████| 287/287 [00:04<00:00, 71.53it/s]\n"
     ]
    }
   ],
   "source": [
    "from tqdm import tqdm\n",
    "\n",
    "links = []\n",
    "for entry in tqdm(NewsFeed.entries):\n",
    "    summary = entry[\"summary\"]\n",
    "    urls = extractor.find_urls(summary)\n",
    "    weixin_urls = [link for link in urls if check_weixin(link)]\n",
    "    links = add_links(links, weixin_urls)"
   ]
  },
  {
   "cell_type": "code",
   "execution_count": 44,
   "id": "82d99eb1-07fb-491c-abe6-486585313667",
   "metadata": {
    "scrolled": true,
    "tags": []
   },
   "outputs": [
    {
     "data": {
      "text/plain": [
       "['https://mp.weixin.qq.com/s/vA7TjHIjMyRos5w4WhP58g',\n",
       " 'https://mp.weixin.qq.com/s/qL3cvojIXcELH4oLjrEh2g',\n",
       " 'https://mp.weixin.qq.com/s/RnMgZkIv4PeTJQTq2ChTwA',\n",
       " 'https://mp.weixin.qq.com/s/cnlIlmVdUd-HyvfWdzv59w',\n",
       " 'https://mp.weixin.qq.com/s/hC9La7zYGlhWcl-ufArF1Q',\n",
       " 'https://mp.weixin.qq.com/s/FsYGCVqHYReL0ksPxPIwJA',\n",
       " 'https://mp.weixin.qq.com/s/plqJBaX8lOMIX1KJ8X3eNw',\n",
       " 'https://mp.weixin.qq.com/s/UK9wZ1O0q3Dk9CVRaKGpsQ',\n",
       " 'https://mp.weixin.qq.com/s/-Sidzxuvzwxc_xLKJrwbXg',\n",
       " 'https://mp.weixin.qq.com/s/yAuJqRVyumHB1kOfW7rlaQ',\n",
       " 'https://mp.weixin.qq.com/s?__biz=MjEwMzA5NTcyMQ==&amp',\n",
       " 'https://mp.weixin.qq.com/s/dvTstmedPcvYvJ5MlIvsUQ',\n",
       " 'https://mp.weixin.qq.com/s/bK-kQs0HIrQcMqRPYK1D_w',\n",
       " 'https://mp.weixin.qq.com/s/_oPSgy1_0NDUT8cJAtUuaQ',\n",
       " 'https://mp.weixin.qq.com/mp/appmsgalbum?action=getalbum&amp',\n",
       " 'https://mp.weixin.qq.com/s/pOJxDuyttWs6GlUj01bwvg',\n",
       " 'https://mp.weixin.qq.com/s/SdDGCC_RspHnP_Z9reUbag',\n",
       " 'https://mp.weixin.qq.com/s/TlcBU3Na-j1us2F24a7jcg',\n",
       " 'https://mp.weixin.qq.com/s/ArQ_ilCKIerE-IEAlldckg',\n",
       " 'https://mp.weixin.qq.com/s/PCjqFFTcsC2lQCaNNZz86Q',\n",
       " 'https://mp.weixin.qq.com/s/Yy1SMBfOL-LsUnewqJ6ttA',\n",
       " 'https://mp.weixin.qq.com/s/JUxPTKI0if-Z-zFcUef_Cg',\n",
       " 'https://mp.weixin.qq.com/s/gLufK1aUHE9zg3RO8T-_tA',\n",
       " 'https://mp.weixin.qq.com/s/AuDZr2cnSAXxqP04V0wDXQ',\n",
       " 'https://mp.weixin.qq.com/s/fbNz6iq2CHZumIz1xHCtSA',\n",
       " 'https://mp.weixin.qq.com/s/LjTvzwNA7nXa2yGDQa510A',\n",
       " 'https://mp.weixin.qq.com/s/IZ_pgYZWV1TvLJuxYhFE4A',\n",
       " 'https://mp.weixin.qq.com/s/4dIL7QiuS-5tc2A1bJvysw',\n",
       " 'https://mp.weixin.qq.com/s/3I1kRCNCluoZoij5OCBV_A',\n",
       " 'https://mp.weixin.qq.com/s/khiSuSlZnxu_mu2KvTlphw',\n",
       " 'https://mp.weixin.qq.com/s/nZGptpIPsnsJfDBqcGZ0Vg',\n",
       " 'https://mp.weixin.qq.com/s/VBUqd-OXuY3tuDeXCIhjug',\n",
       " 'https://mp.weixin.qq.com/s/G4lz50q4bW5_51OfVR8cHw',\n",
       " 'https://mp.weixin.qq.com/s/YEVtgYc6PUuqcsAmIWdnSg',\n",
       " 'https://mp.weixin.qq.com/s/fmD3nwHcmX2Y9w4tdX7Frw',\n",
       " 'https://mp.weixin.qq.com/s/n_XrmKe0QS6-k6r7aYgWtg',\n",
       " 'https://mp.weixin.qq.com/s/ZmuFl4JcJAKwaAgjFEH3Gw',\n",
       " 'https://mp.weixin.qq.com/mp/profile_ext?action=home&amp',\n",
       " 'https://mp.weixin.qq.com/s/1HT46DGcj1Y0ifYsToBkaA',\n",
       " 'https://mp.weixin.qq.com/s/Xlu5sYiwHlZd31FbZbkYBA',\n",
       " 'https://mp.weixin.qq.com/s/Cbg2wM0O6rkTD8X-0BCvIQ',\n",
       " 'https://mp.weixin.qq.com/s/2J3Ls5UKVy108ffP2Xek6Q',\n",
       " 'https://mp.weixin.qq.com/s?__biz=MzI2OTA4NTY0MA==&amp',\n",
       " 'https://mp.weixin.qq.com/s/DucPKjL7W3SdxVFLno96BQ',\n",
       " 'https://mp.weixin.qq.com/s/Cz1taKfwZbWjwAO7rtTtqA',\n",
       " 'https://mp.weixin.qq.com/s/ZNzhCp3XysL-UjKhKrgUkg',\n",
       " 'https://mp.weixin.qq.com/s/ppc9XtYmeZuO1wx4DdZKFg',\n",
       " 'https://mp.weixin.qq.com/s/2aZnqo64Ff2QV7dHxRhVeA',\n",
       " 'https://mp.weixin.qq.com/s/EyXb2vxLZCSXy_lUa83iTw',\n",
       " 'https://mp.weixin.qq.com/s/8CTDW_oxSMDQHtzkFQqATw',\n",
       " 'https://mp.weixin.qq.com/s/WGEUOI8WcNbxaap8Alm9Rg',\n",
       " 'https://mp.weixin.qq.com/s/w6cKH_NGsnSZM1td7ZBQiA',\n",
       " 'https://mp.weixin.qq.com/s/Nm8uJA0l4iPrwh_YJOKPbQ',\n",
       " 'https://mp.weixin.qq.com/s/u1n2xHhlycviA-Ix2rgObA',\n",
       " 'https://mp.weixin.qq.com/s/bOArodlkAKqx3t7LneiJWA',\n",
       " 'https://mp.weixin.qq.com/s/MIomyD60XP9FLSZERHnl7g',\n",
       " 'https://mp.weixin.qq.com/s/MS7oxRRrOaeU-VvwiplqGA',\n",
       " 'https://mp.weixin.qq.com/s/4HAM3jWeCKB5dG3DlNw-xA',\n",
       " 'https://mp.weixin.qq.com/s/FF_9Gy_WbYaFU05M-EneKw',\n",
       " 'https://mp.weixin.qq.com/s/mBlxxO165qTAH5VxDSlnWA',\n",
       " 'https://mp.weixin.qq.com/s?__biz=MjM5NzU4ODQ2MA==&amp',\n",
       " 'https://mp.weixin.qq.com/s/Rk5ygEnqcBGQXJu6GctONA',\n",
       " 'https://mp.weixin.qq.com/s/wd4QZZNDsI1pTU52IDkwdg',\n",
       " 'https://mp.weixin.qq.com/s?__biz=MzA5NzIwMjQzMA==&amp',\n",
       " 'https://mp.weixin.qq.com/s/2vZ0dUlZwjW5jEpxd_Mqhw',\n",
       " 'https://mp.weixin.qq.com/s/O4g_6tOic7rk9-_y9ZkYEA',\n",
       " 'https://mp.weixin.qq.com/s?__biz=MzI5MDEwNzMwMQ==&amp',\n",
       " 'https://mp.weixin.qq.com/s/aNycNqOXUrVw1nEs2TeRMQ',\n",
       " 'https://mp.weixin.qq.com/s?__biz=MzIwMDczNTE3OQ==&amp',\n",
       " 'https://mp.weixin.qq.com/s/pMtd-9_GO5YvzncIGmWL-w',\n",
       " 'https://mp.weixin.qq.com/s/lCSJgkCGY4O3T5KcQlI46A',\n",
       " 'https://mp.weixin.qq.com/s/e3qqNWZ6DEC5xMno5fR2Bw',\n",
       " 'https://mp.weixin.qq.com/s/qw5SiZv0_HgN19KxPywgfQ',\n",
       " 'https://mp.weixin.qq.com/s/ndir3G2ZqECCUpMtDyvMPQ',\n",
       " 'https://mp.weixin.qq.com/s/iTH6_wTuQqLBEa_0UzqV1g',\n",
       " 'https://mp.weixin.qq.com/s/oD_ZOXbs_EQ1078ZlLWg7Q',\n",
       " 'https://mp.weixin.qq.com/s/xBl8Eb1pBqT7wx87fTnHDA',\n",
       " 'https://mp.weixin.qq.com/s/0uoSA8ZodnrA7-gu0fFBxw',\n",
       " 'https://mp.weixin.qq.com/s/DUGzY4noXZUAA0iydvXUMA',\n",
       " 'https://mp.weixin.qq.com/s/UZnuInUTRqvsqoe1gJhtiw',\n",
       " 'https://mp.weixin.qq.com/s/xj4-c_CXogy6sHPoOD_Quw',\n",
       " 'https://mp.weixin.qq.com/s/QcApfCdS5pl1UKqZJ4YDw',\n",
       " 'https://mp.weixin.qq.com/s/xGXz8FHVyRpgRxoMVBETfA',\n",
       " 'https://mp.weixin.qq.com/s/9BZT96kyoS8oHhPAm55mKQ',\n",
       " 'https://mp.weixin.qq.com/s/_dmgS_1cg4qIgylrexlpwQ',\n",
       " 'https://mp.weixin.qq.com/s/i90bbb35yr3RqrqKaZmTEw',\n",
       " 'https://mp.weixin.qq.com/s/Qvx5NlY38GpZEQx6f5ParQ',\n",
       " 'https://mp.weixin.qq.com/s/U3X6At_1tWb5DumnuFLL2w',\n",
       " 'https://mp.weixin.qq.com/s/b1s7R9yOhb0WVUMaH780Kg',\n",
       " 'https://mp.weixin.qq.com/s/zlXCj8trfTIwZRbu4p0trg',\n",
       " 'https://mp.weixin.qq.com/s/JeLnAWZX5h4EuNVsbO53ow',\n",
       " 'https://mp.weixin.qq.com/s?__biz=MzIxMDYxOTIzMQ==&amp',\n",
       " 'https://mp.weixin.qq.com/s/ZshpLCL7cqI3vLv9864mog',\n",
       " 'https://mp.weixin.qq.com/s/7wQXF9ycbj30nzRgLkc30w',\n",
       " 'https://mp.weixin.qq.com/s/8fV0Wl3aeeSCZE_xSiBTCA',\n",
       " 'https://mp.weixin.qq.com/s/xg-c_paaaosAkmJnZI8t4g']"
      ]
     },
     "execution_count": 44,
     "metadata": {},
     "output_type": "execute_result"
    }
   ],
   "source": [
    "links"
   ]
  },
  {
   "cell_type": "code",
   "execution_count": 46,
   "id": "7f5a31c7-9564-40cb-bc00-2e6b71047770",
   "metadata": {
    "tags": []
   },
   "outputs": [],
   "source": [
    "with open(\"weixin.txt\", \"w\") as f:\n",
    "    for line in links:\n",
    "        f.write(f\"{line}\\n\\n\")"
   ]
  },
  {
   "cell_type": "code",
   "execution_count": null,
   "id": "6b23bff7-239c-4ded-812d-e46c6ef20a96",
   "metadata": {},
   "outputs": [],
   "source": []
  }
 ],
 "metadata": {
  "kernelspec": {
   "display_name": "Python 3 (ipykernel)",
   "language": "python",
   "name": "python3"
  },
  "language_info": {
   "codemirror_mode": {
    "name": "ipython",
    "version": 3
   },
   "file_extension": ".py",
   "mimetype": "text/x-python",
   "name": "python",
   "nbconvert_exporter": "python",
   "pygments_lexer": "ipython3",
   "version": "3.9.18"
  }
 },
 "nbformat": 4,
 "nbformat_minor": 5
}
