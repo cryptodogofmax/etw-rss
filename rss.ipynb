{
 "cells": [
  {
   "cell_type": "code",
   "execution_count": 3,
   "id": "c39fddf6-fbaa-438f-b2b1-bd9a03a22106",
   "metadata": {
    "tags": []
   },
   "outputs": [
    {
     "name": "stdout",
     "output_type": "stream",
     "text": [
      "The lab_black extension is already loaded. To reload it, use:\n",
      "  %reload_ext lab_black\n"
     ]
    }
   ],
   "source": [
    "%load_ext lab_black"
   ]
  },
  {
   "cell_type": "code",
   "execution_count": 12,
   "id": "4006834e-6d6a-4ffe-a3f8-d5a25da1c812",
   "metadata": {
    "tags": []
   },
   "outputs": [
    {
     "name": "stdout",
     "output_type": "stream",
     "text": [
      "Number of RSS posts : 73\n"
     ]
    }
   ],
   "source": [
    "import feedparser\n",
    "\n",
    "# https://feeds.fireside.fm/stovol/rss\n",
    "# https://feeds.fireside.fm/shengdongjixi/rss\n",
    "# https://feeds.fireside.fm/surplusvalue/rss\n",
    "NewsFeed = feedparser.parse(\"https://feeds.fireside.fm/surplusvalue/rss\")\n",
    "\n",
    "print(\"Number of RSS posts :\", len(NewsFeed.entries))"
   ]
  },
  {
   "cell_type": "code",
   "execution_count": 13,
   "id": "5931e5df-1fd3-4887-b882-391e2c6fbaaa",
   "metadata": {
    "tags": []
   },
   "outputs": [],
   "source": [
    "entry0 = NewsFeed.entries[0]"
   ]
  },
  {
   "cell_type": "code",
   "execution_count": 14,
   "id": "4397d5ea-bf22-42b7-9d83-44dca389d30d",
   "metadata": {
    "tags": []
   },
   "outputs": [
    {
     "data": {
      "text/plain": [
       "'<p>刚刚过去的11月9日是柏林墙倒塌30周年纪念日。30年前，柏林墙倒塌标志着冷战的结束，新的历史纪元由此开启；30年后，生活在“铁幕”两边的欧洲人又在经历怎样的日常？本期「剩余价值」第一次以越洋连线的方式，特邀资深媒体人、驻欧记者王磬，和我们聊了聊柏林墙背后欧洲复杂的历史和现实。在今天，柏林墙的概念在文化符号层面、现实层面和城市景观层面分别有什么意义？中东欧地区的民粹主义势头为何愈演愈烈？后冷战时代出生的年轻人和他们的父辈对历史又有着怎样不同的理解？作为长期工作和生活在欧洲的国际新闻记者，王磬也与我们分享了她从事国际新闻报道的感受，以及向中国读者讲述欧洲的意义。</p>\\n\\n<p>【主持】</p>\\n\\n<p>张之琪（媒体人，新浪微博@Zzzzzhiqi）<br />\\n 傅适野（媒体人，新浪微博@ssshiye）</p>\\n\\n<p>【嘉宾】</p>\\n\\n<p>王磬（资深媒体人，驻欧记者，播客《不合时宜》发起人）</p>\\n\\n<p>[05: 48] 关于柏林墙倒塌30周年，该不该纪念或许是比该怎么纪念更重要的问题。 <br />\\n [08: 03] 当我们谈柏林墙的时候，我们究竟谈的是什么？<br />\\n [11: 46] 民粹主义今天为何在铁幕东边重新崛起？<br />\\n [14: 47] 30年前两德统一其实是以西德吞并东德的方式达成的<br />\\n [20: 30] 统一之后的东德和改制之后的东北具有某种镜像关系<br />\\n [23: 07] 经济停滞只是欧洲民粹兴起的导火索，并不是根本原因<br />\\n [26: 38] 国内媒体对于柏林墙倒塌30周年的报道是偏历史向的<br />\\n [30: 38] 后冷战时代出生的年轻德国人，对柏林墙的历史抱有一种戏谑的态度<br />\\n [39: 09] 王磬去前史塔西总部参观，看到了前数字时代监控的极致形态<br />\\n [41: 54] 在国际新闻领域，欧洲受到的关注不如美国<br />\\n [42: 51] 很多中国人看国际新闻还是抱有一种“寻找荒谬的他者”的心态<br />\\n [47: 49] 欧洲和中国的可比性太弱了，“他山之石”并不是做欧洲报道的好的视角<br />\\n [50: 25] 欧洲社会是目前最接近人类理想社会的形态</p>\\n\\n<p>【本期节目中提到的电影】</p>\\n\\n<p>《气球》<br />\\n《窃听风暴》<br />\\n《无主之作》</p>\\n\\n<p>【本期节目中使用的音乐】</p>\\n\\n<p>片头：Kurt&amp;Elisabeth, by Max Richter, 电影《无主之作》原声带<br />\\n片尾：Hey Jude, by Beatles</p>'"
      ]
     },
     "execution_count": 14,
     "metadata": {},
     "output_type": "execute_result"
    }
   ],
   "source": [
    "summary0 = entry0[\"summary\"]\n",
    "summary0"
   ]
  },
  {
   "cell_type": "code",
   "execution_count": 15,
   "id": "21191de8-6073-4aec-8acf-ffd096938128",
   "metadata": {
    "tags": []
   },
   "outputs": [
    {
     "data": {
      "text/plain": [
       "[]"
      ]
     },
     "execution_count": 15,
     "metadata": {},
     "output_type": "execute_result"
    }
   ],
   "source": [
    "from urlextract import URLExtract\n",
    "\n",
    "extractor = URLExtract()\n",
    "urls = extractor.find_urls(summary0)\n",
    "urls"
   ]
  },
  {
   "cell_type": "code",
   "execution_count": 16,
   "id": "f8a6ffa8-f5fe-4350-835d-a849af8c6418",
   "metadata": {
    "tags": []
   },
   "outputs": [
    {
     "data": {
      "text/plain": [
       "[]"
      ]
     },
     "execution_count": 16,
     "metadata": {},
     "output_type": "execute_result"
    }
   ],
   "source": [
    "entry = NewsFeed.entries[10]\n",
    "summary = entry[\"summary\"]\n",
    "urls = extractor.find_urls(summary)\n",
    "urls"
   ]
  },
  {
   "cell_type": "code",
   "execution_count": 17,
   "id": "efd47b4e-11be-4ad9-a576-45ff93769d7e",
   "metadata": {
    "tags": []
   },
   "outputs": [
    {
     "data": {
      "text/plain": [
       "True"
      ]
     },
     "execution_count": 17,
     "metadata": {},
     "output_type": "execute_result"
    }
   ],
   "source": [
    "from urllib.parse import urlparse\n",
    "\n",
    "url = \"https://mp.weixin.qq.com/s/UK9wZ1O0q3Dk9CVRaKGpsQ\"\n",
    "search_domain = urlparse(url).hostname\n",
    "\n",
    "\n",
    "def check_weixin(new_link):\n",
    "    return search_domain in new_link\n",
    "\n",
    "\n",
    "check_weixin(\"https://mp.weixin.qq.com/mp/appmsgalbum?action=getalbum&amp\")"
   ]
  },
  {
   "cell_type": "code",
   "execution_count": 18,
   "id": "7367008d-b5f6-4324-ad93-e2be34b187c1",
   "metadata": {
    "tags": []
   },
   "outputs": [
    {
     "data": {
      "text/plain": [
       "[1, 2, 5, 7, 9]"
      ]
     },
     "execution_count": 18,
     "metadata": {},
     "output_type": "execute_result"
    }
   ],
   "source": [
    "first_list = [1, 2, 2, 5]\n",
    "second_list = [2, 5, 7, 9]\n",
    "\n",
    "\n",
    "def add_links(list1, list2):\n",
    "    return list(set(list1 + list2))\n",
    "\n",
    "\n",
    "add_links(first_list, second_list)"
   ]
  },
  {
   "cell_type": "code",
   "execution_count": 19,
   "id": "f37cd057-fecf-403f-8343-f3f7e79f42c1",
   "metadata": {
    "tags": []
   },
   "outputs": [
    {
     "name": "stderr",
     "output_type": "stream",
     "text": [
      "100%|█████████████████████████████████████████████████████████████████████████| 73/73 [00:00<00:00, 125.90it/s]\n"
     ]
    }
   ],
   "source": [
    "from tqdm import tqdm\n",
    "\n",
    "links = []\n",
    "for entry in tqdm(NewsFeed.entries):\n",
    "    summary = entry[\"summary\"]\n",
    "    urls = extractor.find_urls(summary)\n",
    "    weixin_urls = [link for link in urls if check_weixin(link)]\n",
    "    links = add_links(links, weixin_urls)"
   ]
  },
  {
   "cell_type": "code",
   "execution_count": 20,
   "id": "82d99eb1-07fb-491c-abe6-486585313667",
   "metadata": {
    "scrolled": true,
    "tags": []
   },
   "outputs": [
    {
     "data": {
      "text/plain": [
       "['https://mp.weixin.qq.com/s/M-hVivF7NQmZHlu8YMnL_w',\n",
       " 'https://mp.weixin.qq.com/s/5WzCzb6MHsLVa13tQppUdA',\n",
       " 'https://mp.weixin.qq.com/s/rLdQPu9EdHtHHd3Xsdrnhg',\n",
       " 'https://mp.weixin.qq.com/s/3Ox4w365hKqDU-_MAZJmbg',\n",
       " 'https://mp.weixin.qq.com/s/yJ2ygq2NrMAhTFWYZsC3QA',\n",
       " 'https://mp.weixin.qq.com/s/Q8XI5lGY7RYCO4eoG-tYjQ']"
      ]
     },
     "execution_count": 20,
     "metadata": {},
     "output_type": "execute_result"
    }
   ],
   "source": [
    "links"
   ]
  },
  {
   "cell_type": "code",
   "execution_count": 22,
   "id": "7f5a31c7-9564-40cb-bc00-2e6b71047770",
   "metadata": {
    "tags": []
   },
   "outputs": [],
   "source": [
    "with open(\"weixin-剩余价值.txt\", \"w\") as f:\n",
    "    for line in links:\n",
    "        f.write(f\"{line}\\n\\n\")"
   ]
  },
  {
   "cell_type": "code",
   "execution_count": null,
   "id": "6b23bff7-239c-4ded-812d-e46c6ef20a96",
   "metadata": {},
   "outputs": [],
   "source": []
  }
 ],
 "metadata": {
  "kernelspec": {
   "display_name": "Python 3 (ipykernel)",
   "language": "python",
   "name": "python3"
  },
  "language_info": {
   "codemirror_mode": {
    "name": "ipython",
    "version": 3
   },
   "file_extension": ".py",
   "mimetype": "text/x-python",
   "name": "python",
   "nbconvert_exporter": "python",
   "pygments_lexer": "ipython3",
   "version": "3.9.18"
  }
 },
 "nbformat": 4,
 "nbformat_minor": 5
}
