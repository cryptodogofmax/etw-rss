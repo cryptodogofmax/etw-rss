{
 "cells": [
  {
   "cell_type": "code",
   "execution_count": 3,
   "id": "c39fddf6-fbaa-438f-b2b1-bd9a03a22106",
   "metadata": {
    "tags": []
   },
   "outputs": [
    {
     "name": "stdout",
     "output_type": "stream",
     "text": [
      "The lab_black extension is already loaded. To reload it, use:\n",
      "  %reload_ext lab_black\n"
     ]
    }
   ],
   "source": [
    "%load_ext lab_black"
   ]
  },
  {
   "cell_type": "code",
   "execution_count": 8,
   "id": "4006834e-6d6a-4ffe-a3f8-d5a25da1c812",
   "metadata": {
    "tags": []
   },
   "outputs": [
    {
     "name": "stdout",
     "output_type": "stream",
     "text": [
      "Number of RSS posts : 287\n"
     ]
    }
   ],
   "source": [
    "import feedparser\n",
    "\n",
    "NewsFeed = feedparser.parse(\"https://feeds.fireside.fm/shengdongjixi/rss\")\n",
    "\n",
    "print(\"Number of RSS posts :\", len(NewsFeed.entries))"
   ]
  },
  {
   "cell_type": "code",
   "execution_count": 9,
   "id": "5931e5df-1fd3-4887-b882-391e2c6fbaaa",
   "metadata": {
    "tags": []
   },
   "outputs": [],
   "source": [
    "entry0 = NewsFeed.entries[0]"
   ]
  },
  {
   "cell_type": "code",
   "execution_count": 12,
   "id": "4397d5ea-bf22-42b7-9d83-44dca389d30d",
   "metadata": {
    "tags": []
   },
   "outputs": [
    {
     "data": {
      "text/plain": [
       "'<p>熊猫大概是这个世界上身份最多样、知名度最高的动物 —— 它是社交平台上的网红，是全球各大动物园的明星，而最为特殊的，或许还是它在中国外交史上曾经和正在扮演的角色。</p>\\n\\n<p>生活在山野中的熊猫在近代是如何被重新发现与关注的？第一批被运往外国的熊猫命运如何？新中国成立后，意识形态的差异如何影响了「熊猫外交」？从国礼到租借，现在的熊猫们又是如何出国「打工」的？</p>\\n\\n<p>今天的节目就让我们一起走近这个给你我带来了无数欢乐，但却从未被真正了解过的多面动物 —— 大熊猫。</p>\\n\\n<p><strong>本期人物</strong><br />\\n徐涛，声动活泼联合创始人<br />\\n刘晓晨，上海师范大学世界史系助理研究员<br />\\n一凡，「声东击西」监制</p>\\n\\n<p><strong>主要话题</strong><br />\\n[10:29]   海外「熊猫热」的起源：博物学、探险家和对神秘东方的想象<br />\\n[21:05]   冷战时期的「熊猫外交」：这只熊猫姓资还是姓社？<br />\\n[39:33]   走出国门的熊猫推动了国内的熊猫保护工作<br />\\n[43:44]   熊猫外交的新阶段：租借、科研合作以及动物福祉<br />\\n[53:11]   通过熊猫，再次反思人和动物、自然的关系</p>\\n\\n<p><strong>延伸阅读</strong><br />\\n<a href=\"https://book.douban.com/subject/26335757/?dt_dapp=1\" rel=\"nofollow\">《最后的熊猫》</a><br />\\n<a href=\"https://book.douban.com/subject/36371035/?dt_dapp=1\" rel=\"nofollow\">《樱与兽：帝国中心的上野动物园》</a><br />\\n<a href=\"https://book.douban.com/subject/30192623/?dt_dapp=1\" rel=\"nofollow\">《Panda Nation：The Construction and Conservation of China\\'s Modern Icon》</a><br />\\n<a href=\"https://mp.weixin.qq.com/s/1HT46DGcj1Y0ifYsToBkaA\" rel=\"nofollow\">痛悼！“中国大熊猫之父”胡锦矗病逝</a><br />\\n<a href=\"https://baike.baidu.com/item/%E5%B7%B4%E9%BB%8E%E7%BB%9F%E7%AD%B9%E5%A7%94%E5%91%98%E4%BC%9A\" rel=\"nofollow\">巴黎统筹委员会</a></p>\\n\\n<p><strong>往期节目</strong><br />\\n<a href=\"https://etw.fm/maomeng\" rel=\"nofollow\">#147 假如，京郊有豹子？</a><br />\\n<a href=\"https://etw.fm/168\" rel=\"nofollow\">#168 我们为什么担忧对大象的围观</a><br />\\n<a href=\"https://etw.fm/186\" rel=\"nofollow\">#186 嘿，认识一下你的野生新邻居</a><br />\\n<a href=\"https://etw.fm/188\" rel=\"nofollow\">#188 一场旅程中的杀手</a></p>\\n\\n<p><strong>加入方式</strong><br />\\n<a href=\"https://sourl.cn/rYXHK9\" rel=\"nofollow\">支付 ¥365/年</a> 成为<strong>声动胡同常住民</strong>。加入后，你将会在「声动胡同」里体验到专属内容、参与社群活动，和听友们一起「声动活泼」。 <br />\\n在此之前，也欢迎你成为声动胡同<a href=\"https://sourl.cn/rYXHK9\" rel=\"nofollow\">闲逛者</a> ，免费体验会员内容、感受社群氛围。<a href=\"https://sourl.cn/seG52h\" rel=\"nofollow\">了解更多会员计划详情，我们在声动胡同等你。</a> </p>\\n\\n<p><strong>幕后制作</strong><br />\\n监制：一凡、六工<br />\\n后期：赛德<br />\\n运营：瑞涵<br />\\n设计：饭团</p>\\n\\n<p><strong>关于节目</strong><br />\\nBigger Than Us，渴望多元视角，用发问来探索世界。</p>\\n\\n<p><strong>商务合作</strong><br />\\n<a href=\"https://sourl.cn/6vdmQT\" rel=\"nofollow\">声动活泼商务合作咨询</a></p>\\n\\n<p><strong>加入我们</strong><br />\\n声动活泼正在招聘「节目监制」和「声音设计师」，查看详细讯息请 <a href=\"https://sourl.cn/j8tk2g\" rel=\"nofollow\">点击链接</a> 。如果你正准备在相关领域发挥专长、贡献能量，请联系我们。</p>\\n\\n<p><strong>关于声动活泼</strong><br />\\n「用声音碰撞世界」，声动活泼致力于为人们提供源源不断的思考养料。<br />\\n我们还有这些播客：<a href=\"https://www.xiaoyuzhoufm.com/podcast/60de7c003dd577b40d5a40f3\" rel=\"nofollow\">声动早咖啡</a>、<a href=\"https://guiguzaozhidao.fireside.fm/episodes\" rel=\"nofollow\">What\\'s Next｜科技早知道</a>、<a href=\"https://www.xiaoyuzhoufm.com/podcast/644b94c494d78eb3f7ae8640\" rel=\"nofollow\">吃喝玩乐了不起</a>、<a href=\"https://www.xiaoyuzhoufm.com/podcast/5e284c37418a84a0462634a4\" rel=\"nofollow\">反潮流俱乐部</a>、<a href=\"https://www.xiaoyuzhoufm.com/podcast/5f445cdb9504bbdb77f092e9\" rel=\"nofollow\">泡腾 VC</a>、<a href=\"https://www.xiaoyuzhoufm.com/podcast/61315abc73105e8f15080b8a\" rel=\"nofollow\">商业WHY酱</a>、<a href=\"https://therabbithole.fireside.fm/\" rel=\"nofollow\">跳进兔子洞</a><br />\\n欢迎在<a href=\"https://okjk.co/Qd43ia\" rel=\"nofollow\">即刻</a>、微博等社交媒体上与我们互动，搜索 <strong>声动活泼</strong> 即可找到我们。<br />\\n期待你给我们写邮件，邮箱地址是：<a href=\"mailto:ting@sheng.fm\" rel=\"nofollow\">ting@sheng.fm</a></p><p>Special Guest: 刘晓晨.</p>'"
      ]
     },
     "execution_count": 12,
     "metadata": {},
     "output_type": "execute_result"
    }
   ],
   "source": [
    "summary0 = entry0[\"summary\"]\n",
    "summary0"
   ]
  },
  {
   "cell_type": "code",
   "execution_count": 13,
   "id": "21191de8-6073-4aec-8acf-ffd096938128",
   "metadata": {
    "tags": []
   },
   "outputs": [
    {
     "name": "stdout",
     "output_type": "stream",
     "text": [
      "['https://book.douban.com/subject/26335757/?dt_dapp=1', 'https://book.douban.com/subject/36371035/?dt_dapp=1', 'https://book.douban.com/subject/30192623/?dt_dapp=1', 'https://mp.weixin.qq.com/s/1HT46DGcj1Y0ifYsToBkaA', 'https://baike.baidu.com/item/%E5%B7%B4%E9%BB%8E%E7%BB%9F%E7%AD%B9%E5%A7%94%E5%91%98%E4%BC%9A', 'https://etw.fm/maomeng', 'https://etw.fm/168', 'https://etw.fm/186', 'https://etw.fm/188', 'https://sourl.cn/rYXHK9', 'https://sourl.cn/rYXHK9', 'https://sourl.cn/seG52h', 'https://sourl.cn/6vdmQT', 'https://sourl.cn/j8tk2g', 'https://www.xiaoyuzhoufm.com/podcast/60de7c003dd577b40d5a40f3', 'https://guiguzaozhidao.fireside.fm/episodes', 'https://www.xiaoyuzhoufm.com/podcast/644b94c494d78eb3f7ae8640', 'https://www.xiaoyuzhoufm.com/podcast/5e284c37418a84a0462634a4', 'https://www.xiaoyuzhoufm.com/podcast/5f445cdb9504bbdb77f092e9', 'https://www.xiaoyuzhoufm.com/podcast/61315abc73105e8f15080b8a', 'https://therabbithole.fireside.fm/', 'https://okjk.co/Qd43ia']\n"
     ]
    }
   ],
   "source": [
    "from urlextract import URLExtract\n",
    "\n",
    "extractor = URLExtract()\n",
    "urls = extractor.find_urls(summary0)\n",
    "print(urls)  # prints: ['janlipovsky.cz']"
   ]
  },
  {
   "cell_type": "code",
   "execution_count": 14,
   "id": "0626af54-b990-4120-be09-b1127c63beb1",
   "metadata": {
    "tags": []
   },
   "outputs": [],
   "source": [
    "summary0 = entry0[\"summary\"]\n",
    "urls0 = extractor.find_urls(summary0)"
   ]
  },
  {
   "cell_type": "code",
   "execution_count": 15,
   "id": "879f22fa-9f31-4e6b-842c-da8114c18cd4",
   "metadata": {
    "tags": []
   },
   "outputs": [
    {
     "data": {
      "text/plain": [
       "['https://book.douban.com/subject/26335757/?dt_dapp=1',\n",
       " 'https://book.douban.com/subject/36371035/?dt_dapp=1',\n",
       " 'https://book.douban.com/subject/30192623/?dt_dapp=1',\n",
       " 'https://mp.weixin.qq.com/s/1HT46DGcj1Y0ifYsToBkaA',\n",
       " 'https://baike.baidu.com/item/%E5%B7%B4%E9%BB%8E%E7%BB%9F%E7%AD%B9%E5%A7%94%E5%91%98%E4%BC%9A',\n",
       " 'https://etw.fm/maomeng',\n",
       " 'https://etw.fm/168',\n",
       " 'https://etw.fm/186',\n",
       " 'https://etw.fm/188',\n",
       " 'https://sourl.cn/rYXHK9',\n",
       " 'https://sourl.cn/rYXHK9',\n",
       " 'https://sourl.cn/seG52h',\n",
       " 'https://sourl.cn/6vdmQT',\n",
       " 'https://sourl.cn/j8tk2g',\n",
       " 'https://www.xiaoyuzhoufm.com/podcast/60de7c003dd577b40d5a40f3',\n",
       " 'https://guiguzaozhidao.fireside.fm/episodes',\n",
       " 'https://www.xiaoyuzhoufm.com/podcast/644b94c494d78eb3f7ae8640',\n",
       " 'https://www.xiaoyuzhoufm.com/podcast/5e284c37418a84a0462634a4',\n",
       " 'https://www.xiaoyuzhoufm.com/podcast/5f445cdb9504bbdb77f092e9',\n",
       " 'https://www.xiaoyuzhoufm.com/podcast/61315abc73105e8f15080b8a',\n",
       " 'https://therabbithole.fireside.fm/',\n",
       " 'https://okjk.co/Qd43ia']"
      ]
     },
     "execution_count": 15,
     "metadata": {},
     "output_type": "execute_result"
    }
   ],
   "source": [
    "urls0"
   ]
  },
  {
   "cell_type": "code",
   "execution_count": 17,
   "id": "7367008d-b5f6-4324-ad93-e2be34b187c1",
   "metadata": {
    "tags": []
   },
   "outputs": [
    {
     "data": {
      "text/plain": [
       "{1, 2, 5, 7, 9}"
      ]
     },
     "execution_count": 17,
     "metadata": {},
     "output_type": "execute_result"
    }
   ],
   "source": [
    "first_list = [1, 2, 2, 5]\n",
    "second_list = [2, 5, 7, 9]\n",
    "\n",
    "set(first_list + second_list)"
   ]
  },
  {
   "cell_type": "code",
   "execution_count": null,
   "id": "f37cd057-fecf-403f-8343-f3f7e79f42c1",
   "metadata": {},
   "outputs": [],
   "source": []
  }
 ],
 "metadata": {
  "kernelspec": {
   "display_name": "Python 3 (ipykernel)",
   "language": "python",
   "name": "python3"
  },
  "language_info": {
   "codemirror_mode": {
    "name": "ipython",
    "version": 3
   },
   "file_extension": ".py",
   "mimetype": "text/x-python",
   "name": "python",
   "nbconvert_exporter": "python",
   "pygments_lexer": "ipython3",
   "version": "3.9.18"
  }
 },
 "nbformat": 4,
 "nbformat_minor": 5
}
